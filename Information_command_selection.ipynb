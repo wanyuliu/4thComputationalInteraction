{
 "cells": [
  {
   "cell_type": "code",
   "execution_count": 2,
   "metadata": {
    "collapsed": true
   },
   "outputs": [],
   "source": [
    "from __future__ import division\n",
    "from numpy import array, shape, where, in1d\n",
    "import math\n",
    "import time\n",
    "import nose\n",
    "import numpy as np\n",
    "import random\n",
    "import matplotlib.pyplot as plt\n",
    "%matplotlib inline\n",
    "import tkinter as tk\n",
    "from tkinter import *\n"
   ]
  },
  {
   "cell_type": "code",
   "execution_count": 3,
   "metadata": {
    "collapsed": true
   },
   "outputs": [],
   "source": [
    "# Compute descrete random variables \n",
    "class InformationTheoryTool:\n",
    "    \n",
    "    def __init__(self, data):\n",
    "        \"\"\"\n",
    "        \"\"\"\n",
    "        # Check if all rows have the same length\n",
    "        assert (len(data.shape) == 2)\n",
    "        # Save data\n",
    "        self.data = data\n",
    "        self.n_rows = data.shape[0]\n",
    "        self.n_cols = data.shape[1]\n",
    "        \n",
    "        \n",
    "    def single_entropy(self, x_index, log_base, debug = False):\n",
    "        \"\"\"\n",
    "        Calculate the entropy of a random variable\n",
    "        \"\"\"\n",
    "        # Check if index are into the bounds\n",
    "        assert (x_index >= 0 and x_index <= self.n_rows)\n",
    "        # Variable to return entropy\n",
    "        summation = 0.0\n",
    "        # Get unique values of random variables\n",
    "        values_x = set(self.data[x_index])\n",
    "        # Print debug info\n",
    "        if debug:\n",
    "            print('Entropy of')\n",
    "            #print(data[x_index])\n",
    "        # For each random\n",
    "        for value_x in values_x:\n",
    "            px = shape(where(self.data[x_index]==value_x))[1] / self.n_cols\n",
    "            if px > 0.0:\n",
    "                summation += px * math.log(px, log_base)\n",
    "            if debug:\n",
    "                print('(%d) px:%f' % (value_x, px))\n",
    "        if summation == 0.0:\n",
    "            return summation\n",
    "        else:\n",
    "            return - summation\n",
    "        \n",
    "        \n",
    "    def entropy(self, x_index, y_index, log_base, debug = False):\n",
    "        \"\"\"\n",
    "        Calculate the entropy between two random variable\n",
    "        \"\"\"\n",
    "        assert (x_index >= 0 and x_index <= self.n_rows)\n",
    "        assert (y_index >= 0 and y_index <= self.n_rows)\n",
    "        # Variable to return MI\n",
    "        summation = 0.0\n",
    "        # Get unique values of random variables\n",
    "        values_x = set(self.data[x_index])\n",
    "        values_y = set(self.data[y_index])\n",
    "        # Print debug info\n",
    "        if debug:\n",
    "            print('Entropy between')\n",
    "            print(self.data[x_index])\n",
    "            print(self.data[y_index])\n",
    "        # For each random\n",
    "        for value_x in values_x:\n",
    "            for value_y in values_y:\n",
    "                pxy = len(where(in1d(where(self.data[x_index]==value_x)[0], \n",
    "                                where(self.data[y_index]==value_y)[0])==True)[0]) / self.n_cols\n",
    "                if pxy > 0.0:\n",
    "                    summation += pxy * math.log(pxy, log_base)\n",
    "                if debug:\n",
    "                    print('(%d,%d) pxy:%f' % (value_x, value_y, pxy))\n",
    "        if summation == 0.0:\n",
    "            return summation\n",
    "        else:\n",
    "            return - summation\n",
    "        \n",
    "        \n",
    "        \n",
    "    def mutual_information(self, x_index, y_index, log_base, debug = False):\n",
    "        \"\"\"\n",
    "        Calculate and return Mutual information between two random variables\n",
    "        \"\"\"\n",
    "        # Check if index are into the bounds\n",
    "        assert (x_index >= 0 and x_index <= self.n_rows)\n",
    "        assert (y_index >= 0 and y_index <= self.n_rows)\n",
    "        # Variable to return MI\n",
    "        summation = 0.0\n",
    "        # Get unique values of random variables\n",
    "        values_x = set(self.data[x_index])\n",
    "        values_y = set(self.data[y_index])\n",
    "        # Print debug info\n",
    "        if debug:\n",
    "            print('MI between')\n",
    "            print(self.data[x_index])\n",
    "            print(self.data[y_index])\n",
    "        # For each random\n",
    "        for value_x in values_x:\n",
    "            for value_y in values_y:\n",
    "                px = shape(where(self.data[x_index]==value_x))[1] / self.n_cols\n",
    "                py = shape(where(self.data[y_index]==value_y))[1] / self.n_cols\n",
    "                pxy = len(where(in1d(where(self.data[x_index]==value_x)[0], \n",
    "                                where(self.data[y_index]==value_y)[0])==True)[0]) / self.n_cols\n",
    "                if pxy > 0.0:\n",
    "                    summation += pxy * math.log((pxy / (px*py)), log_base)\n",
    "                if debug:\n",
    "                    print('(%d,%d) px:%f py:%f pxy:%f' % (value_x, value_y, px, py, pxy))\n",
    "        return summation\n",
    "    \n",
    "    "
   ]
  },
  {
   "cell_type": "code",
   "execution_count": 4,
   "metadata": {
    "collapsed": true
   },
   "outputs": [],
   "source": [
    "\n",
    "def visual(x1,x2,t):\n",
    "    \n",
    "    # Visualize X and Y and their discrepancy (error rate)\n",
    "    colors = ['#E69F00', '#56B4E9']\n",
    "    names = ['Intended input','Actual input correct']\n",
    "    numCorrect = []  # Push the variable if it is correct\n",
    "\n",
    "    for i in range(len(x1)):\n",
    "        if x1[i] == x2[i]:\n",
    "            numCorrect.append(x1[i])\n",
    "\n",
    "    plt.hist([x1,numCorrect], bins = int(180/20), normed=False, color = colors, label = names)\n",
    "\n",
    "    plt.legend(prop={'size': 12}, bbox_to_anchor=(0.9, 1.2), ncol=2)\n",
    "    plt.xlabel('Items')\n",
    "    plt.ylabel('Counts')\n",
    "\n",
    "    print(\"error rate:\", np.mean(np.array(x1) != np.array(x2)))\n",
    "\n",
    "    # Using the tool above to compute mutual information of X and Y\n",
    "\n",
    "    MI_XY = [x1,x2]\n",
    "    data = array(MI_XY)# Create object\n",
    "    it_tool = InformationTheoryTool(data)\n",
    "\n",
    "    \"\"\"\n",
    "    I(X;Y) = H(X) - H(X|Y)\n",
    "    \"\"\"\n",
    "    Entropy_X = it_tool.single_entropy(0,2)\n",
    "    Mutual_Information = it_tool.mutual_information(0, 1, 2)\n",
    "    Equivocation = Entropy_X - Mutual_Information\n",
    "\n",
    "    print(\"Entropy: \", Entropy_X, \"bits\")\n",
    "    print(\"Mutual Information: \", Mutual_Information, \"bits\")\n",
    "    print(\"Transmitted information percentage:\", Mutual_Information/Entropy_X)\n",
    "    print(\"Equivocation: \", Equivocation, \"bits\")\n",
    "\n",
    "    if t != 0:\n",
    "        print(\"Throughput: \", Mutual_Information/t, \"bit/s\")\n",
    "    else:\n",
    "        print(\"Throughput is not available\")\n",
    "\n",
    "    "
   ]
  },
  {
   "cell_type": "code",
   "execution_count": 5,
   "metadata": {},
   "outputs": [
    {
     "name": "stdout",
     "output_type": "stream",
     "text": [
      "error rate: 0.1875\n",
      "Entropy:  2.0 bits\n",
      "Mutual Information:  1.3050365325772657 bits\n",
      "Transmitted information percentage: 0.6525182662886329\n",
      "Equivocation:  0.6949634674227343 bits\n",
      "Throughput is not available\n"
     ]
    },
    {
     "data": {
      "image/png": "[encoded data removed]",
      "text/plain": [
       "<matplotlib.figure.Figure at 0x111067278>"
      ]
     },
     "metadata": {},
     "output_type": "display_data"
    }
   ],
   "source": [
    "# Two random variables X and Y\n",
    "\n",
    "## TO DO: change the values that X and Y can take and the distributions to see how mutual information changes\n",
    "\n",
    "## TO DO: play it with your own data\n",
    "X = [1,1,1,1,2,2,2,2,3,3,3,3,4,4,4,4]\n",
    "Y = [1,1,1,1,1,2,2,3,3,3,3,3,4,3,4,4]\n",
    "\n",
    "visual(X,Y,0)\n",
    "\n"
   ]
  },
  {
   "cell_type": "code",
   "execution_count": 11,
   "metadata": {
    "collapsed": true,
    "scrolled": true
   },
   "outputs": [],
   "source": [
    "# Command selection on a menu\n",
    "\n",
    "root = tk.Tk()\n",
    "\n",
    "# Insert a menu bar on the main window\n",
    "menubar = Menu(root)\n",
    "root.config(menu=menubar)\n",
    "\n",
    "# Create a menu button labeled \"Command Selection\" that brings up a menu\n",
    "filemenu = Menu(menubar)\n",
    "menubar.add_cascade(label='Command Selection', menu=filemenu)\n",
    "    \n",
    "# the number of items in the menu. TO DO: try change it\n",
    "n = 5\n",
    "\n",
    "X_stimuli = []\n",
    "Y_response = []\n",
    "time_stamp = []\n",
    "\n",
    "stimulus = tk.Text(root, height = 2, width = 30)\n",
    "sti = random.randint(1,n)\n",
    "X_stimuli.append(sti)\n",
    "stimulus.insert(tk.END, \"Please select: \" + str(sti))\n",
    "stimulus.grid(row = 0, column = 1)\n",
    "\n",
    "# When clicking on each item, your response is collected\n",
    "\n",
    "def onclick(click): \n",
    "    Y_response.append(int(click))     \n",
    "    time_stamp.append(time.time())\n",
    "    stimulus.delete('1.0', tk.END)\n",
    "    next_stimulus = random.randint(1,n)\n",
    "    X_stimuli.append(next_stimulus)\n",
    "    stimulus.insert(tk.END, \"Please select: \" + str(next_stimulus))\n",
    "    \n",
    "for i in range(n):\n",
    "    filemenu.add_command(label = str(i+1), \n",
    "                         command = lambda i=i: onclick(i+1))\n",
    "\n",
    "root.mainloop()\n",
    "\n",
    "X_stimuli = X_stimuli[:-1]"
   ]
  },
  {
   "cell_type": "code",
   "execution_count": 12,
   "metadata": {
    "scrolled": false
   },
   "outputs": [
    {
     "name": "stdout",
     "output_type": "stream",
     "text": [
      "[8, 7, 8]\n",
      "[8, 7, 7]\n",
      "Average time:  0.9900506337483724 s\n",
      "error rate: 0.333333333333\n",
      "Entropy:  0.9182958340544896 bits\n",
      "Mutual Information:  0.2516291673878228 bits\n",
      "Transmitted information percentage: 0.2740175421212808\n",
      "Equivocation:  0.6666666666666667 bits\n",
      "Throughput:  0.2541578771937597 bit/s\n"
     ]
    },
    {
     "data": {
      "image/png": "[encoded data removed]",
      "text/plain": [
       "<matplotlib.figure.Figure at 0x11af6ada0>"
      ]
     },
     "metadata": {},
     "output_type": "display_data"
    }
   ],
   "source": [
    "# Visualize your answer:\n",
    "\n",
    "if (len(time_stamp) == 0):\n",
    "    print(\"No data available\")\n",
    "else:\n",
    "    print(X_stimuli)\n",
    "    print(Y_response)\n",
    "    average_time = (time_stamp[len(time_stamp)-1] - time_stamp[0])/len(Y_response)\n",
    "    print(\"Average time: \", average_time, \"s\")\n",
    "    visual(X_stimuli, Y_response, average_time)\n",
    "\n",
    "\n",
    "# TO DO: do it as fast and as accuractly as you can. \n",
    "# Tell each other your information transmission efficiency (bit/s)\n",
    "\n",
    "# TO DO: change the distribution"
   ]
  },
  {
   "cell_type": "code",
   "execution_count": null,
   "metadata": {
    "collapsed": true
   },
   "outputs": [],
   "source": []
  },
  {
   "cell_type": "code",
   "execution_count": null,
   "metadata": {
    "collapsed": true
   },
   "outputs": [],
   "source": []
  },
  {
   "cell_type": "code",
   "execution_count": null,
   "metadata": {
    "collapsed": true
   },
   "outputs": [],
   "source": []
  }
 ],
 "metadata": {
  "kernelspec": {
   "display_name": "Python 3",
   "language": "python",
   "name": "python3"
  },
  "language_info": {
   "codemirror_mode": {
    "name": "ipython",
    "version": 3
   },
   "file_extension": ".py",
   "mimetype": "text/x-python",
   "name": "python",
   "nbconvert_exporter": "python",
   "pygments_lexer": "ipython3",
   "version": "3.6.4"
  }
 },
 "nbformat": 4,
 "nbformat_minor": 2
}
